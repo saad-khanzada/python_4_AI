{
 "cells": [
  {
   "cell_type": "markdown",
   "id": "bddfee1b-d41b-462c-9cb1-8372fe536d7c",
   "metadata": {},
   "source": [
    "# Python Basics Notebook"
   ]
  },
  {
   "cell_type": "markdown",
   "id": "c3c4f5f0-7036-48e2-b717-49d83a5b36f4",
   "metadata": {},
   "source": [
    "<hr>"
   ]
  },
  {
   "cell_type": "markdown",
   "id": "3df7b165-daae-4521-bce2-689af4bf1ba8",
   "metadata": {},
   "source": [
    "print your 1st statement"
   ]
  },
  {
   "cell_type": "code",
   "execution_count": 3,
   "id": "abae98a2-abcd-493f-be57-d82a5937cbf6",
   "metadata": {
    "collapsed": true,
    "jupyter": {
     "outputs_hidden": true
    }
   },
   "outputs": [
    {
     "name": "stdout",
     "output_type": "stream",
     "text": [
      "Hello, wolrd!\n",
      "Hello, Python!\n"
     ]
    }
   ],
   "source": [
    "print('Hello, wolrd!')\n",
    "print('Hello, Python!')"
   ]
  },
  {
   "cell_type": "code",
   "execution_count": 4,
   "id": "194817ce-1b59-4622-b447-dc54cc449af0",
   "metadata": {
    "collapsed": true,
    "jupyter": {
     "outputs_hidden": true
    }
   },
   "outputs": [
    {
     "name": "stdout",
     "output_type": "stream",
     "text": [
      "Hi\n"
     ]
    }
   ],
   "source": [
    "# Practice on writing comments\n",
    "\n",
    "#print('Hello, Python!') # This line prints a string\n",
    "print(\"Hi\")"
   ]
  },
  {
   "cell_type": "markdown",
   "id": "b43d36ea-432e-4509-8479-a08c17c8df13",
   "metadata": {},
   "source": [
    "<br><br>"
   ]
  },
  {
   "cell_type": "code",
   "execution_count": 1,
   "id": "29403b46-3c39-4799-a6a1-797cf87ea025",
   "metadata": {
    "collapsed": true,
    "jupyter": {
     "outputs_hidden": true
    }
   },
   "outputs": [
    {
     "name": "stdout",
     "output_type": "stream",
     "text": [
      "1st Statement\n",
      "2nd Statement \n",
      "3rd statement\n"
     ]
    }
   ],
   "source": [
    "# Print string to see the running order\n",
    "\n",
    "print(\"1st Statement\")\n",
    "print(\"2nd Statement \")\n",
    "print(\"3rd statement\")"
   ]
  },
  {
   "cell_type": "markdown",
   "id": "ef0d1521-6b3d-4b33-8759-a3426561d6fe",
   "metadata": {},
   "source": [
    "<br><br>"
   ]
  },
  {
   "cell_type": "markdown",
   "id": "79eb58b5-a385-41c9-8306-f72871825798",
   "metadata": {},
   "source": [
    "# Data_types\n"
   ]
  },
  {
   "cell_type": "markdown",
   "id": "35df6317-9cc9-4101-8392-980ae1e74d81",
   "metadata": {},
   "source": [
    "### Data Types in Python\n",
    "\n",
    "- **int**: Whole numbers (e.g., `5`, `-10`)  \n",
    "- **float**: Decimal numbers (e.g., `3.14`, `-0.5`)  \n",
    "- **string**: Text enclosed in quotes (e.g., `\"hello\"`, `'Python'`)  \n",
    "- **boolean**: True/False values (`True`, `False`)  \n"
   ]
  },
  {
   "cell_type": "markdown",
   "id": "4206b2ad-d7f8-4072-88b9-420729c85ff5",
   "metadata": {},
   "source": [
    "<hr>"
   ]
  },
  {
   "cell_type": "markdown",
   "id": "8c0fa833-2ecb-4e68-8bd2-ee88dce21b29",
   "metadata": {},
   "source": [
    "## Integers (int) - Whole Numbers\n",
    "\n"
   ]
  },
  {
   "cell_type": "code",
   "execution_count": 6,
   "id": "e797dddb-1bc0-42b6-86a5-7c3d3bafb7c5",
   "metadata": {
    "collapsed": true,
    "jupyter": {
     "outputs_hidden": true
    }
   },
   "outputs": [
    {
     "name": "stdout",
     "output_type": "stream",
     "text": [
      "Positive Integer: 10\n",
      "Negative Integer: -5\n",
      "Zero Integer: 0\n"
     ]
    }
   ],
   "source": [
    "# Integers are whole numbers (positive, negative, or zero)\n",
    "integer_number = 10\n",
    "negative_integer = -5\n",
    "zero_integer = 0\n",
    "\n",
    "# Printing integer values\n",
    "print(\"Positive Integer:\", integer_number)\n",
    "print(\"Negative Integer:\", negative_integer)\n",
    "print(\"Zero Integer:\", zero_integer)\n"
   ]
  },
  {
   "cell_type": "markdown",
   "id": "08e1fafe-20a5-4b36-928b-4c3a62969bd4",
   "metadata": {},
   "source": [
    "## Practice Exercise:"
   ]
  },
  {
   "cell_type": "code",
   "execution_count": 7,
   "id": "6e3ceb04-da9e-4a63-9098-841504f0e5cd",
   "metadata": {
    "collapsed": true,
    "jupyter": {
     "outputs_hidden": true
    }
   },
   "outputs": [],
   "source": [
    "# Declare three integer variables with different values and print them.\n",
    "# Example: Assign values like 15, -8, and 0 to variables and print them.\n",
    "\n",
    "# Your Code Here:\n"
   ]
  },
  {
   "cell_type": "markdown",
   "id": "e5979a77-ca5b-4087-a011-b32ad1825e95",
   "metadata": {},
   "source": [
    "<hr>"
   ]
  },
  {
   "cell_type": "markdown",
   "id": "3c036c9d-aad2-4e47-a113-dea8f840c64d",
   "metadata": {},
   "source": [
    "<br><br>\n"
   ]
  },
  {
   "cell_type": "markdown",
   "id": "d8c4fd59-37d2-4d3b-88ea-f726943d80d3",
   "metadata": {},
   "source": [
    "## Floats (float) - Decimal Numbers"
   ]
  },
  {
   "cell_type": "code",
   "execution_count": 8,
   "id": "9d0f50e9-6730-4c15-a642-06dd0f6275cb",
   "metadata": {
    "collapsed": true,
    "jupyter": {
     "outputs_hidden": true
    }
   },
   "outputs": [
    {
     "name": "stdout",
     "output_type": "stream",
     "text": [
      "Positive Float: 10.5\n",
      "Negative Float: -3.14\n",
      "Zero Float: 0.0\n"
     ]
    }
   ],
   "source": [
    "# Floats include decimal numbers\n",
    "float_number = 10.5\n",
    "negative_float = -3.14\n",
    "zero_float = 0.0\n",
    "\n",
    "# Printing float values\n",
    "print(\"Positive Float:\", float_number)\n",
    "print(\"Negative Float:\", negative_float)\n",
    "print(\"Zero Float:\", zero_float)\n"
   ]
  },
  {
   "cell_type": "markdown",
   "id": "bc547796-c8c1-4537-92a3-07b894a96d19",
   "metadata": {},
   "source": [
    "## Practice Exercise:"
   ]
  },
  {
   "cell_type": "code",
   "execution_count": 9,
   "id": "b4f54db0-c3dd-4b46-9d52-725003d74d2b",
   "metadata": {
    "collapsed": true,
    "jupyter": {
     "outputs_hidden": true
    }
   },
   "outputs": [],
   "source": [
    "# Declare three float variables with different values and print them.\n",
    "# Example: Assign values like 20.75, -4.5, and 0.0 to variables and print them.\n",
    "\n",
    "# Your Code Here:\n"
   ]
  },
  {
   "cell_type": "markdown",
   "id": "95bc59c1-e517-43ec-a35b-46c9093aa93d",
   "metadata": {},
   "source": [
    "<hr>"
   ]
  },
  {
   "cell_type": "markdown",
   "id": "42d57a9d-deff-45a3-bbe0-a172e9a2fa6b",
   "metadata": {},
   "source": [
    "<br><br>"
   ]
  },
  {
   "cell_type": "markdown",
   "id": "46bea710-92d7-4852-8f9e-c9c7c366e01c",
   "metadata": {},
   "source": [
    "##  Typecasting: Converting Integers to Floats"
   ]
  },
  {
   "cell_type": "code",
   "execution_count": 10,
   "id": "529bd092-b714-45b6-952e-d5f29b91de32",
   "metadata": {
    "collapsed": true,
    "jupyter": {
     "outputs_hidden": true
    }
   },
   "outputs": [
    {
     "name": "stdout",
     "output_type": "stream",
     "text": [
      "Original Integer: 7\n",
      "Converted to Float: 7.0\n"
     ]
    }
   ],
   "source": [
    "# Converting an integer to a float\n",
    "int_value = 7\n",
    "int_to_float = float(int_value)\n",
    "\n",
    "# Printing the conversion result\n",
    "print(\"Original Integer:\", int_value)\n",
    "print(\"Converted to Float:\", int_to_float)\n"
   ]
  },
  {
   "cell_type": "markdown",
   "id": "633e1fd2-df1c-4388-820e-6154cde2ed86",
   "metadata": {},
   "source": [
    "## Practice Exercise:"
   ]
  },
  {
   "cell_type": "code",
   "execution_count": 11,
   "id": "85ed2965-de05-4e4e-91c0-d98da3cf5c9f",
   "metadata": {
    "collapsed": true,
    "jupyter": {
     "outputs_hidden": true
    }
   },
   "outputs": [],
   "source": [
    "# Convert any two integers of your choice into floats and print them.\n",
    "\n",
    "# Your Code Here:\n"
   ]
  },
  {
   "cell_type": "markdown",
   "id": "528e4dd9-64f5-4f20-9079-674542ae7efc",
   "metadata": {},
   "source": [
    "<hr>"
   ]
  },
  {
   "cell_type": "markdown",
   "id": "13ece43e-9697-4ae3-8750-30ccf008f90f",
   "metadata": {},
   "source": [
    "<br><br>"
   ]
  },
  {
   "cell_type": "markdown",
   "id": "c34cbc14-9725-4c02-b366-10fc1e308ec3",
   "metadata": {},
   "source": [
    "## Typecasting: Converting Floats to Integers"
   ]
  },
  {
   "cell_type": "code",
   "execution_count": 12,
   "id": "8ffcc68a-7a71-4b5f-a54a-6729a41bc76b",
   "metadata": {
    "collapsed": true,
    "jupyter": {
     "outputs_hidden": true
    }
   },
   "outputs": [
    {
     "name": "stdout",
     "output_type": "stream",
     "text": [
      "Original Float: 12.99\n",
      "Converted to Integer: 12\n"
     ]
    }
   ],
   "source": [
    "# Converting a float to an integer\n",
    "float_value = 12.99\n",
    "float_to_int = int(float_value)  # Removes the decimal part (truncation)\n",
    "\n",
    "# Printing the conversion result\n",
    "print(\"Original Float:\", float_value)\n",
    "print(\"Converted to Integer:\", float_to_int)\n"
   ]
  },
  {
   "cell_type": "markdown",
   "id": "a1d4546a-9101-4fbe-83a0-bf167862a722",
   "metadata": {},
   "source": [
    "## Practice Exercise:\n"
   ]
  },
  {
   "cell_type": "code",
   "execution_count": 13,
   "id": "0e3d0ab0-9394-49a0-a2d2-10d1633436c9",
   "metadata": {
    "collapsed": true,
    "jupyter": {
     "outputs_hidden": true
    }
   },
   "outputs": [],
   "source": [
    "# Convert any two floats of your choice into integers and print them.\n",
    "\n",
    "# Your Code Here:\n"
   ]
  },
  {
   "cell_type": "markdown",
   "id": "116a04f0-c0b0-40cb-a49e-bf074c01b079",
   "metadata": {},
   "source": [
    "<hr>"
   ]
  },
  {
   "cell_type": "markdown",
   "id": "1bf68aa9-f429-48ad-b962-fd4d4aad8799",
   "metadata": {},
   "source": [
    "<br><br>"
   ]
  },
  {
   "cell_type": "markdown",
   "id": "e2df00a5-48cb-4634-9012-aa91428567a7",
   "metadata": {},
   "source": [
    "##  Converting Integers and Floats to Strings"
   ]
  },
  {
   "cell_type": "code",
   "execution_count": 14,
   "id": "c6af5af1-369b-45aa-81c7-0d299fbdebec",
   "metadata": {
    "collapsed": true,
    "jupyter": {
     "outputs_hidden": true
    }
   },
   "outputs": [
    {
     "name": "stdout",
     "output_type": "stream",
     "text": [
      "Integer as String: 25\n",
      "Float as String: 7.89\n"
     ]
    }
   ],
   "source": [
    "# Converting an integer to a string\n",
    "int_value = 25\n",
    "int_to_str = str(int_value)\n",
    "\n",
    "# Converting a float to a string\n",
    "float_value = 7.89\n",
    "float_to_str = str(float_value)\n",
    "\n",
    "# Printing the results\n",
    "print(\"Integer as String:\", int_to_str)\n",
    "print(\"Float as String:\", float_to_str)\n"
   ]
  },
  {
   "cell_type": "markdown",
   "id": "16cfdd61-ba48-4d6e-828c-956e33c43e1d",
   "metadata": {},
   "source": [
    "## Practice Exercise:\n"
   ]
  },
  {
   "cell_type": "code",
   "execution_count": 15,
   "id": "157271e2-b1d4-421c-8b4b-ac231fdd1e38",
   "metadata": {
    "collapsed": true,
    "jupyter": {
     "outputs_hidden": true
    }
   },
   "outputs": [],
   "source": [
    "# Convert an integer and a float of your choice into strings and print them.\n",
    "\n",
    "# Your Code Here:\n"
   ]
  },
  {
   "cell_type": "markdown",
   "id": "7ec24d10-2601-47cc-b2d8-80edf095c288",
   "metadata": {},
   "source": [
    "<hr>"
   ]
  },
  {
   "cell_type": "markdown",
   "id": "6aa5ec71-dfff-4e81-8ad2-c3bcee37f2ea",
   "metadata": {},
   "source": [
    "<br><br>"
   ]
  },
  {
   "cell_type": "markdown",
   "id": "6bd3a686-8cf5-45b9-b840-f850fd424382",
   "metadata": {},
   "source": [
    "## . Converting Numbers to Booleans"
   ]
  },
  {
   "cell_type": "code",
   "execution_count": 16,
   "id": "5366df25-77cf-4fe7-90ba-da99f38ea44e",
   "metadata": {
    "collapsed": true,
    "jupyter": {
     "outputs_hidden": true
    }
   },
   "outputs": [
    {
     "name": "stdout",
     "output_type": "stream",
     "text": [
      "Boolean from Integer (10): True\n",
      "Boolean from Zero (0): False\n",
      "Boolean from Float (-5.6): True\n"
     ]
    }
   ],
   "source": [
    "# Any non-zero number is considered True, and 0 is considered False in Boolean conversion\n",
    "int_value = 10\n",
    "zero_value = 0\n",
    "float_value = -5.6\n",
    "\n",
    "# Converting to Boolean\n",
    "bool_from_int = bool(int_value)  \n",
    "bool_from_zero = bool(zero_value)  \n",
    "bool_from_float = bool(float_value)\n",
    "\n",
    "# Printing the results\n",
    "print(\"Boolean from Integer (10):\", bool_from_int)\n",
    "print(\"Boolean from Zero (0):\", bool_from_zero)\n",
    "print(\"Boolean from Float (-5.6):\", bool_from_float)\n"
   ]
  },
  {
   "cell_type": "markdown",
   "id": "0fcd5039-766a-4a5a-8811-34a0af62522c",
   "metadata": {},
   "source": [
    "## Practice Exercise:\n"
   ]
  },
  {
   "cell_type": "code",
   "execution_count": 17,
   "id": "86397ee0-a0bd-4e6e-8eb7-216fda8a55bd",
   "metadata": {
    "collapsed": true,
    "jupyter": {
     "outputs_hidden": true
    }
   },
   "outputs": [],
   "source": [
    "# Convert an integer (other than 0) and a float to a Boolean and print them.\n",
    "# Also, check the Boolean value of 0.\n",
    "\n",
    "# Your Code Here:\n"
   ]
  },
  {
   "cell_type": "markdown",
   "id": "13524e9a-4c58-4354-93ee-ed9d8fba5569",
   "metadata": {},
   "source": [
    "<br><br>"
   ]
  }
 ],
 "metadata": {
  "kernelspec": {
   "display_name": "Python 3 (ipykernel)",
   "language": "python",
   "name": "python3"
  },
  "language_info": {
   "codemirror_mode": {
    "name": "ipython",
    "version": 3
   },
   "file_extension": ".py",
   "mimetype": "text/x-python",
   "name": "python",
   "nbconvert_exporter": "python",
   "pygments_lexer": "ipython3",
   "version": "3.12.7"
  }
 },
 "nbformat": 4,
 "nbformat_minor": 5
}
